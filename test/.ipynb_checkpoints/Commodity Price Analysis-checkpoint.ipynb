{
 "cells": [
  {
   "cell_type": "markdown",
   "metadata": {},
   "source": [
    "# Commodity Price Analysis"
   ]
  },
  {
   "cell_type": "code",
   "execution_count": 1,
   "metadata": {},
   "outputs": [
    {
     "name": "stderr",
     "output_type": "stream",
     "text": [
      "┌ Info: Precompiling Plots [91a5bcdd-55d7-5caf-9e0b-520d859cae80]\n",
      "└ @ Base loading.jl:1260\n",
      "┌ Warning: Package Plots does not have Pkg in its dependencies:\n",
      "│ - If you have Plots checked out for development and have\n",
      "│   added Pkg as a dependency but haven't updated your primary\n",
      "│   environment's manifest file, try `Pkg.resolve()`.\n",
      "│ - Otherwise you may need to report an issue with Plots\n",
      "└ Loading Pkg into Plots from project dependency, future warnings for Plots are suppressed.\n"
     ]
    }
   ],
   "source": [
    "include(\"../src/AutocorrelationShell.jl\")\n",
    "using Main.AutocorrelationShell\n",
    "using Plots,Wavelets,LinearAlgebra,Statistics,Random,FileIO,DataFrames,CSV,Loess,StatsBase,DelimitedFiles"
   ]
  },
  {
   "cell_type": "code",
   "execution_count": null,
   "metadata": {},
   "outputs": [],
   "source": [
    "path = \"./commodity_quarterly.csv\" # Quarterly data\n",
    "\n",
    "data = CSV.read(path)\n",
    "df = data[:,1:ncol(data)-1] # Remove last col of missing values\n",
    "\n",
    "# Split Indices/Market Prices by group and by commodity\n",
    "index_bool = occursin.(\"index\",lowercase.(df[:,Symbol(\"Commodity Name\")]))\n",
    "df_group = df[index_bool,:]\n",
    "df_comm = df[.!index_bool,:]"
   ]
  },
  {
   "cell_type": "code",
   "execution_count": null,
   "metadata": {},
   "outputs": [],
   "source": [
    "comm_names = [\"Precious Metals Price Index\",\"Vegetable oil index \",\"Wool index \",\"Seafood index \",\"Energy index \",\n",
    " \"Agr. Raw Material Index \",\"Non-Fuel index \",\"Natural gas index \",\"Cereal  index\",\"Coal index \",\n",
    " \"Food index \",\"Hardwood index \",\"Industrial Materials index \",\"Meat Index \",\"Metal index \",\n",
    " \"Beverages index \",\"Softwood index \",\"Sugar index \"]\n",
    "\n",
    "# Specify dataset \n",
    "function get_data(df,units)\n",
    "    df = df[df[:,Symbol(\"Unit Name\")] .== units,:]\n",
    "    all_names = df[:,Symbol(\"Commodity Name\")]\n",
    "    all_times = names(df)[8:ncol(df)]\n",
    "    x = convert(Matrix,df[:,8:ncol(df)])\n",
    "    return x,all_names,all_times\n",
    "end\n",
    "\n",
    "# Remove some commodity indices\n",
    "bool = [in(i,comm_names) for i in df_group[:,Symbol(\"Commodity Name\")]]\n",
    "df_group_sub = df_group[bool,:]\n",
    "\n",
    "# Get data\n",
    "dat,all_names,all_times = get_data(df_group_sub,\"Index\")\n",
    "print(\"----- Original Data -----\\n\")\n",
    "print(string(\"missing count (columns): \", [sum(ismissing.(dat[i,:])) for i in 1:size(dat)[1]]'))\n",
    "print(string(\"\\nsize: \", size(dat),\"\\n\"))\n",
    "\n",
    "# Subset data to get rid of missing values\n",
    "row_dat,col_dat = size(dat)\n",
    "x = identity.(dat[:,col_dat-112:col_dat])\n",
    "\n",
    "#legendlabel=reshape(all_names,(1,size(x)[2]))\n",
    "timelabel=map(string,all_times)[col_dat-112:col_dat]\n",
    "\n",
    "print(\"\\n----- Subset Data -----\\n\")\n",
    "print(string(\"missing count (columns): \", [sum(ismissing.(x[i,:])) for i in 1:size(x)[1]]'))\n",
    "print(string(\"\\nsize: \", size(x)))"
   ]
  },
  {
   "cell_type": "markdown",
   "metadata": {},
   "source": [
    "### 1D Autocorrelation Analysis"
   ]
  },
  {
   "cell_type": "code",
   "execution_count": null,
   "metadata": {},
   "outputs": [],
   "source": [
    "function linear_fitted_1d(x,i,axis)\n",
    "    if axis == 2 # normalize rows to unit length\n",
    "        xs = collect(1:size(x)[2])\n",
    "        p1 = [xs[1], x[i,:][1]]\n",
    "        pn = [xs[size(x)[2]], x[i,:][size(x)[2]]]\n",
    "        m = (pn[2]-p1[2])/(pn[1]-p1[1])\n",
    "        b = p1[2] - m*p1[1]\n",
    "        line = m.*xs .+ b\n",
    "    elseif axis == 1 # normalize columns to unit length\n",
    "        xs = collect(1:size(x)[1])\n",
    "        p1 = [xs[1], x[:,i][1]]\n",
    "        pn = [xs[size(x)[1]], x[:,i][size(x)[1]]]\n",
    "        m = (pn[2]-p1[2])/(pn[1]-p1[1])\n",
    "        b = p1[2] - m*p1[1]\n",
    "        line = m.*xs .+ b\n",
    "    end\n",
    "    return line\n",
    "end\n",
    "\n",
    "function linear_fitted(x,axis)\n",
    "    \"\"\"\n",
    "    Input:\n",
    "        x -- data matrix\n",
    "        axis -- \"2\" to normalize rows, \"1\" to normalize columns\n",
    "    Output:\n",
    "        matrix of fitted lines\n",
    "    \"\"\"\n",
    "    if axis == 2 # normalize rows to unit length\n",
    "        x_linear = hcat([linear_fitted_1d(x,i,2) for i in 1:size(x)[1]]...)'\n",
    "    elseif axis == 1 # normalize columns to unit length\n",
    "        x_linear = hcat([linear_fitted_1d(x,i,1) for i in 1:size(x)[2]]...)\n",
    "    end\n",
    "    \n",
    "    return x_linear\n",
    "end\n",
    "\n",
    "function dyadlength(x)\n",
    "\"\"\"\n",
    "    dyadlength(x)\n",
    "\n",
    "    Returns the dyadic length of a sequence `x`\n",
    "\"\"\"\n",
    "    return trunc(Integer, log2(length(x)))\n",
    "end"
   ]
  },
  {
   "cell_type": "code",
   "execution_count": null,
   "metadata": {},
   "outputs": [],
   "source": [
    "fitted = linear_fitted(x,2)\n",
    "x_normalize = x-fitted\n",
    "x_padded = hcat(x_normalize,zeros(18,15))"
   ]
  },
  {
   "cell_type": "code",
   "execution_count": null,
   "metadata": {},
   "outputs": [],
   "source": [
    "n_series = size(x_padded)[1]\n",
    "n = size(x_padded)[2]\n",
    "\n",
    "H = wavelet(WT.db2)\n",
    "L = 2\n",
    "J = dyadlength(zeros(n))\n",
    "D = J - L + 1\n",
    "Q = qfilter(H)\n",
    "P = pfilter(H)\n",
    "\n",
    "accoef_matrix_3d = Array{Float64, 3}(undef, n, D, n_series)\n",
    "for i in 1:n_series\n",
    "    accoef_matrix_3d[:,:,i] = fwt_ac(x_padded[i,:],L,P,Q)\n",
    "end"
   ]
  },
  {
   "cell_type": "code",
   "execution_count": null,
   "metadata": {},
   "outputs": [],
   "source": [
    "gr()\n",
    "coef = sort(abs.(accoef_matrix_3d[:]))\n",
    "plot(coef,legend=:none,yticks=0:50:maximum(coef))\n",
    "ylabel!(\"Absolute Value of Coefficient\")\n",
    "xlabel!(\"Coefficient Index\")"
   ]
  },
  {
   "cell_type": "code",
   "execution_count": null,
   "metadata": {},
   "outputs": [],
   "source": [
    "thresh_ls = [acthreshold(accoef_matrix_3d[:,:,i],\"soft\",40) for i in 1:size(accoef_matrix_3d)[3]]\n",
    "iac_ls = [iwt_ac(i) for i in thresh_ls]\n",
    "iac1d = hcat(iac_ls...)'[:,1:113] + fitted\n",
    "\n",
    "lab = reshape(all_names,1,length(all_names))\n",
    "\n",
    "gr()\n",
    "plot(iac1d',legend=:false,label=lab)"
   ]
  },
  {
   "cell_type": "code",
   "execution_count": null,
   "metadata": {},
   "outputs": [],
   "source": [
    "gr()\n",
    "plot(x',legend=false,label=lab)"
   ]
  },
  {
   "cell_type": "code",
   "execution_count": null,
   "metadata": {},
   "outputs": [],
   "source": [
    "#writedlm(\"thresholded.txt\",iac1d,',')"
   ]
  }
 ],
 "metadata": {
  "kernelspec": {
   "display_name": "Julia 1.4.1",
   "language": "julia",
   "name": "julia-1.4"
  },
  "language_info": {
   "file_extension": ".jl",
   "mimetype": "application/julia",
   "name": "julia",
   "version": "1.4.1"
  }
 },
 "nbformat": 4,
 "nbformat_minor": 4
}
