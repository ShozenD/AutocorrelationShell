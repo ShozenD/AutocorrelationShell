{
 "cells": [
  {
   "cell_type": "code",
   "execution_count": 1,
   "metadata": {},
   "outputs": [],
   "source": [
    "using Plots, Wavelets, LinearAlgebra, Statistics, Random, FileIO\n",
    "using Images, ImageQualityIndexes\n",
    "include(\"../src/AutocorrelationShell.jl\")\n",
    "using Main.AutocorrelationShell"
   ]
  },
  {
   "cell_type": "code",
   "execution_count": 2,
   "metadata": {},
   "outputs": [
    {
     "data": {
      "text/plain": [
       "plot_heatmap (generic function with 1 method)"
      ]
     },
     "execution_count": 2,
     "metadata": {},
     "output_type": "execute_result"
    }
   ],
   "source": [
    "plot_heatmap(x) = heatmap(\n",
    "    log.(abs.(x)),\n",
    "    yflip=true,\n",
    "    axis=nothing,\n",
    "    colorbar_entry=false,\n",
    "    aspect_ratio=:equal,\n",
    "    showaxis=false\n",
    ")"
   ]
  },
  {
   "cell_type": "code",
   "execution_count": 7,
   "metadata": {},
   "outputs": [
    {
     "data": {
      "text/plain": [
       "threshold_psnr (generic function with 1 method)"
      ]
     },
     "execution_count": 7,
     "metadata": {},
     "output_type": "execute_result"
    }
   ],
   "source": [
    "function threshold_psnr(img;L1,L2,P,Q,noise,step_size,thresh_type,random_state)\n",
    "    rng = MersenneTwister(random_state)\n",
    "    img_noise = make_noisy(img,rng,noise)\n",
    "    ac = ac2d(img_noise,L1,L2,P,Q)\n",
    "\n",
    "    ac_max = maximum(abs.(ac[:]))\n",
    "    step = collect(0:step_size:ac_max)\n",
    "\n",
    "    Σ = zeros(0)\n",
    "    for (i, s) in enumerate(step)\n",
    "        Σ[i] = assess(PSNR(), img, iac2d(acthreshold(ac, thresh_type, s)))\n",
    "    end\n",
    "\n",
    "    return (threshold=step, psnr=Σ)\n",
    "end"
   ]
  },
  {
   "cell_type": "code",
   "execution_count": null,
   "metadata": {},
   "outputs": [],
   "source": [
    "function threshold_psnr_plot(img;L1,L2,P,Q,low_noise,high_noise,step)\n",
    "    option1 = (\n",
    "        noise = low_noise,\n",
    "        step_size=step,\n",
    "        thresh_type=\"soft\",\n",
    "        random_state=123\n",
    "    )\n",
    "    option2 = (\n",
    "        noise = low_noise,\n",
    "        step_size=step,\n",
    "        thresh_type=\"hard\",\n",
    "        random_state=123\n",
    "    )\n",
    "    option3 = (\n",
    "        noise = high_noise,\n",
    "        step_size=step,\n",
    "        thresh_type=\"soft\",\n",
    "        random_state=123\n",
    "    )\n",
    "    option4 = (\n",
    "        noise = high_noise,\n",
    "        step_size=step,\n",
    "        thresh_type=\"hard\",\n",
    "        random_state=123\n",
    "    )\n",
    "    \n",
    "\n",
    "    Σ₁ = threshold_psnr(img;L1,L2,P,Q,option1...)\n",
    "    Σ₂ = threshold_psnr(img,L1,L2,P,Q,option2...)\n",
    "    Σ₃ = threshold_psnr(img,L1,L2,P,Q,option3...)\n",
    "    Σ₄ = threshold_psnr(img,L1,L2,P,Q,option4...)\n",
    "    \n",
    "    plot_opt = (\n",
    "        xlabel=\"Threshold\",\n",
    "        ylabel=\"PSNR\",\n",
    "        label=\"\"\n",
    "        legend=false,\n",
    "        linewidth=2,\n",
    "        color=:blue\n",
    "    )\n",
    "\n",
    "    plot(\n",
    "        Σ₁.threshold, Σ₁.psnr;\n",
    "        plot_opt...,\n",
    "        linestyle=:dot\n",
    "    )\n",
    "    plot!(\n",
    "        Σ₂.threshold, Σ₂.psnr;\n",
    "        plot_opt...\n",
    "    )\n",
    "    plot!(\n",
    "        Σ₃.threshold, Σ₃.psnr;\n",
    "        plot_opt...,\n",
    "        color=:red,\n",
    "        linestyle=:dot\n",
    "    )\n",
    "    p = plot!(\n",
    "        Σ₄.threshold, Σ₄.psnr;\n",
    "        plot_opt...,\n",
    "        color=:red\n",
    "    )\n",
    "    return p\n",
    "end"
   ]
  }
 ],
 "metadata": {
  "kernelspec": {
   "display_name": "Julia 1.3.1",
   "language": "julia",
   "name": "julia-1.3"
  },
  "language_info": {
   "file_extension": ".jl",
   "mimetype": "application/julia",
   "name": "julia",
   "version": "1.3.1"
  }
 },
 "nbformat": 4,
 "nbformat_minor": 4
}
